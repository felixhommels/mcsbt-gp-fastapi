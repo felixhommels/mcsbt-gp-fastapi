{
 "cells": [
  {
   "cell_type": "markdown",
   "metadata": {},
   "source": [
    "# Group 1 Advanced Python Group Project Explanation Notebook - FastAPI\n",
    "This document explains step by step the actions taken in order to develop the second part of the Group Project: FastAPI. The overall structure of the notebook is a little explanation along with the code"
   ]
  },
  {
   "cell_type": "markdown",
   "metadata": {},
   "source": [
    "This FastAPI builds upon the Flask part of the project, using the same dataset of Orders which revolves around Delivery times. This part serves as an extention, where we created within the database a users table to which the orders are associated to. This way, you could argue this part of the project tries to mimick a \"Database system\" for orders and clients. **Since you do need to include a API Key in the header, find some examples of valid key below. If using postman, go to authorization > API Key > Key \"API-Token\" > Value \" *one of the tokens***"
   ]
  },
  {
   "cell_type": "markdown",
   "metadata": {},
   "source": [
    "- 5b61908abd2d87146db48d308c8af7afd49c5ea0d4e6202741c834c485d8504e\n",
    "- dcf1b02baf475844f16c831da62a13b3d1d2f7f5040d9135f2ec9f4b6695c820\n",
    "- 4a4d4f07cafac3cbc2dc5922a7d1069c9a671d622b775df819906486cae60fd8"
   ]
  },
  {
   "cell_type": "markdown",
   "metadata": {},
   "source": [
    "GitHub Repo: https://github.com/felixhommels/mcsbt-gp-fastapi"
   ]
  },
  {
   "cell_type": "markdown",
   "metadata": {},
   "source": [
    "### Creating the Database and Schemas"
   ]
  },
  {
   "cell_type": "code",
   "execution_count": null,
   "metadata": {},
   "outputs": [],
   "source": [
    "#From database.py\n",
    "\n",
    "from sqlalchemy import create_engine\n",
    "from sqlalchemy.ext.declarative import declarative_base\n",
    "from sqlalchemy.orm import sessionmaker\n",
    "\n",
    "DATABASE_URL = \"sqlite:///database.db\"\n",
    "\n",
    "engine = create_engine(DATABASE_URL, connect_args={\"check_same_thread\": False})\n",
    "SessionLocal = sessionmaker(autocommit=False, autoflush=False, bind=engine)\n",
    "Base = declarative_base()\n",
    "\n",
    "def get_db():\n",
    "    db = SessionLocal()\n",
    "    try:\n",
    "        yield db\n",
    "    finally:\n",
    "        db.close()"
   ]
  },
  {
   "cell_type": "markdown",
   "metadata": {},
   "source": [
    "- Above we created the database with the link to the database file \n",
    "- A SQLAlchemy engine is created to connect to the SQLite database\n",
    "- The SessionLocal serves as a factory with which database sessions can be created throughout other parts of the code"
   ]
  },
  {
   "cell_type": "code",
   "execution_count": null,
   "metadata": {},
   "outputs": [],
   "source": [
    "#From schemas/order.py\n",
    "\n",
    "from pydantic import BaseModel\n",
    "from typing import Optional\n",
    "\n",
    "class OrderCreate(BaseModel):\n",
    "    order_id: int\n",
    "    user_id: int\n",
    "    distance_km: float\n",
    "    weather: str\n",
    "    traffic_level: str\n",
    "    time_of_day: str\n",
    "    vehicle_type: str\n",
    "    preparation_time_min: int\n",
    "    courier_experience_yrs: float\n",
    "    delivery_time_min: int\n",
    "\n",
    "class OrderResponse(OrderCreate):\n",
    "    id: int\n",
    "\n",
    "    class Config:\n",
    "        orm_mode = True"
   ]
  },
  {
   "cell_type": "markdown",
   "metadata": {},
   "source": [
    "- Next we created the schema for the orders, more specifically the response model and the input pydantic model --> this way both the input and the output get validated\n",
    "- The OrderCreate schema insures that the request body is in line with what the database stores\n",
    "- The reponse model simply returns the Order ID as a confimation. The Config is done such that SQLAlchemy can directly work with this pydantic model"
   ]
  },
  {
   "cell_type": "code",
   "execution_count": null,
   "metadata": {},
   "outputs": [],
   "source": [
    "#From schemas/user.py\n",
    "\n",
    "from pydantic import BaseModel\n",
    "from typing import List\n",
    "\n",
    "class OrderBase(BaseModel):\n",
    "    order_id: int\n",
    "\n",
    "class UserBase(BaseModel):\n",
    "    name: str\n",
    "    email: str\n",
    "\n",
    "class UserCreate(UserBase):\n",
    "    pass\n",
    "\n",
    "class UserResponse(UserBase):\n",
    "    id: int\n",
    "    orders: List[OrderBase] = []\n",
    "\n",
    "    class Config:\n",
    "        orm_mode = True\n",
    "\n",
    "class UserCreateResponse(UserBase):\n",
    "    id: int\n",
    "    api_token: str\n",
    "\n",
    "    class Config:\n",
    "        orm_mode = True\n",
    "\n"
   ]
  },
  {
   "cell_type": "markdown",
   "metadata": {},
   "source": [
    "- In this section, we defined the schema for users, focusing on both the input and output Pydantic models to ensure data validation.\n",
    "- The UserCreate schema validates the request body to align with the expected user data structure in the database.\n",
    "- The UserResponse model returns the user ID and associated orders as part of the response, confirming successful user creation.\n",
    "- The Config class is set to enable SQLAlchemy to work seamlessly with these Pydantic models, allowing for direct integration with ORM instances."
   ]
  },
  {
   "cell_type": "markdown",
   "metadata": {},
   "source": [
    "### Developing the Models"
   ]
  },
  {
   "cell_type": "code",
   "execution_count": null,
   "metadata": {},
   "outputs": [],
   "source": [
    "from sqlalchemy import Column, Integer, String, Float, ForeignKey\n",
    "from sqlalchemy.orm import relationship\n",
    "from database import Base\n",
    "\n",
    "class Order(Base):\n",
    "    __tablename__ = \"orders\"\n",
    "\n",
    "    id = Column(Integer, primary_key=True, index=True)\n",
    "    order_id = Column(Integer, unique=True, index=True)\n",
    "    distance_km = Column(Float)\n",
    "    weather = Column(String)\n",
    "    traffic_level = Column(String)\n",
    "    time_of_day = Column(String)\n",
    "    vehicle_type = Column(String)\n",
    "    preparation_time_min = Column(Integer)\n",
    "    courier_experience_yrs = Column(Float)\n",
    "    delivery_time_min = Column(Integer)\n",
    "\n",
    "    user_id = Column(Integer, ForeignKey(\"users.id\"))\n",
    "    user = relationship(\"User\", back_populates=\"orders\")"
   ]
  },
  {
   "cell_type": "markdown",
   "metadata": {},
   "source": [
    "- In this section, we defined the SQLAlchemy model for orders, establishing the structure of the orders table in the database.\n",
    "- The model includes various fields such as order_id, distance_km, and delivery_time_min, which correspond to the data we want to store.\n",
    "- The user_id field establishes a foreign key relationship with the users table, linking each order to a specific user.\n",
    "- The relationship function is used to create a bidirectional relationship between the Order and User models, allowing easy access to a user's orders.\n",
    "- This setup ensures that our database schema is well-defined and ready for interaction with the FastAPI application.\n",
    "- Additionally, inheriting from Base is crucial as it enables the ORM functionality, allowing SQLAlchemy to map the model to the corresponding database table seamlessly."
   ]
  },
  {
   "cell_type": "code",
   "execution_count": null,
   "metadata": {},
   "outputs": [],
   "source": [
    "from sqlalchemy import Column, Integer, String\n",
    "from sqlalchemy.orm import relationship\n",
    "from database import Base\n",
    "import secrets\n",
    "\n",
    "class User(Base):\n",
    "    __tablename__ = \"users\"\n",
    "\n",
    "    id = Column(Integer, primary_key=True, index=True)\n",
    "    name = Column(String, index=True)\n",
    "    email = Column(String, unique=True, index=True)\n",
    "    api_token = Column(String, unique=True, index=True)\n",
    "    \n",
    "    orders = relationship(\"Order\", back_populates=\"user\", cascade=\"all, delete-orphan\")\n",
    "\n",
    "    def generate_api_token(self):\n",
    "        self.api_token = secrets.token_hex(32)\n",
    "        return self.api_token\n"
   ]
  },
  {
   "cell_type": "markdown",
   "metadata": {},
   "source": [
    "- In this section, we defined the SQLAlchemy model for users, establishing the structure of the users table in the database.\n",
    "- The model includes fields such as name, email, and api_token, which are essential for user identification and authentication.\n",
    "- The orders relationship creates a connection to the Order model, allowing easy access to a user's associated orders and enabling cascading operations for deletions.\n",
    "- The generate_api_token method utilizes the secrets module to create a secure, unique API token for each user, enhancing security for API access.\n",
    "- This setup ensures that our user schema is well-defined and ready for interaction with the FastAPI application.\n",
    "- Additionally, inheriting from Base is crucial as it enables the ORM functionality, allowing SQLAlchemy to map the model to the corresponding database table seamlessly."
   ]
  },
  {
   "cell_type": "markdown",
   "metadata": {},
   "source": [
    "### Development of App.py"
   ]
  },
  {
   "cell_type": "code",
   "execution_count": null,
   "metadata": {},
   "outputs": [],
   "source": [
    "from fastapi import FastAPI, Depends, HTTPException\n",
    "from sqlalchemy.orm import Session\n",
    "from database import get_db\n",
    "from models.user import User\n",
    "from models.order import Order\n",
    "from schemas.user import UserCreate, UserResponse, UserCreateResponse\n",
    "from schemas.order import OrderCreate, OrderResponse\n",
    "from typing import List\n",
    "import uvicorn\n",
    "from fastapi import Header\n",
    "\n",
    "app = FastAPI()"
   ]
  },
  {
   "cell_type": "code",
   "execution_count": null,
   "metadata": {},
   "outputs": [],
   "source": [
    "def get_current_user(api_token: str = Header(None), db: Session = Depends(get_db)):\n",
    "    if not api_token:\n",
    "        raise HTTPException(status_code=401, detail=\"Missing API Token\")\n",
    "\n",
    "    user = db.query(User).filter(User.api_token == api_token).first()\n",
    "    if not user:\n",
    "        raise HTTPException(status_code=401, detail=\"Invalid API Token\")\n",
    "\n",
    "    return user"
   ]
  },
  {
   "cell_type": "markdown",
   "metadata": {},
   "source": [
    "- In this section, we defined the get_current_user function, which serves as a dependency for user authentication in the FastAPI application.\n",
    "- Within the database, each user has a API Token, with which they can access all endpoints\n",
    "- The function accepts an api_token from the request headers and a database session, ensuring that the user is authenticated before accessing protected endpoints.\n",
    "- If the api_token is missing, the function raises an HTTP 401 error with the message \"Missing API Token,\" indicating that authentication is required.\n",
    "- The function queries the database for a user matching the provided API token. If no user is found, it raises another HTTP 401 error with the message \"Invalid API Token,\" preventing unauthorized access.\n",
    "- This setup ensures that only authenticated users can access certain endpoints, enhancing the security of the application.\n",
    "- By using the Depends(get_db) pattern, the function also ensures that it has access to the database session, allowing for efficient user validation."
   ]
  },
  {
   "cell_type": "code",
   "execution_count": null,
   "metadata": {},
   "outputs": [],
   "source": [
    "@app.post(\"/create_user\", response_model=UserCreateResponse)\n",
    "def create_user(user: UserCreate, database: Session = Depends(get_db)):\n",
    "    db_user = User(name=user.name, email=user.email)\n",
    "    db_user.generate_api_token()\n",
    "    database.add(db_user)\n",
    "    database.commit()\n",
    "    database.refresh(db_user)\n",
    "    return db_user"
   ]
  },
  {
   "cell_type": "markdown",
   "metadata": {},
   "source": [
    "- The create_user endpoint allows user registration by accepting a UserCreate model, which includes the user's name and email.\n",
    "- A new User instance is created, and the generate_api_token method generates a unique API token for the user.\n",
    "- The user is added to the database, and changes are committed to persist the data.\n",
    "- The function returns the newly created user as a UserCreateResponse, confirming successful registration.\n",
    "- This setup ensures secure and efficient user registration using SQLAlchemy's ORM capabilities."
   ]
  },
  {
   "cell_type": "code",
   "execution_count": null,
   "metadata": {},
   "outputs": [],
   "source": [
    "@app.get(\"/user/{user_id}\", response_model=UserResponse)\n",
    "def get_user(user_id: int, database: Session = Depends(get_db), current_user: User = Depends(get_current_user)):\n",
    "    user = database.query(User).filter(User.id == user_id).first()\n",
    "    if not user:\n",
    "        raise HTTPException(status_code=404, detail=\"User not found\")\n",
    "    return user"
   ]
  },
  {
   "cell_type": "markdown",
   "metadata": {},
   "source": [
    "- The get_user endpoint retrieves user information based on the provided user_id.\n",
    "- It uses the current_user dependency to ensure the requester is authenticated.\n",
    "- The function queries the database for the user; if not found, it raises a 404 HTTPException.\n",
    "- If the user exists, it returns the user data as a UserResponse, providing secure access to user details."
   ]
  },
  {
   "cell_type": "code",
   "execution_count": null,
   "metadata": {},
   "outputs": [],
   "source": [
    "@app.post(\"/create_order\", response_model=OrderResponse)\n",
    "def create_order(order: OrderCreate, database: Session = Depends(get_db), current_user: User = Depends(get_current_user)):\n",
    "    user = database.query(User).filter(User.id == order.user_id).first()\n",
    "    if not user:\n",
    "        raise HTTPException(status_code=404, detail=\"User not found\")\n",
    "\n",
    "    db_order = Order(\n",
    "        order_id=order.order_id,\n",
    "        user_id=order.user_id, \n",
    "        distance_km=order.distance_km,\n",
    "        weather=order.weather,\n",
    "        traffic_level=order.traffic_level,\n",
    "        time_of_day=order.time_of_day,\n",
    "        vehicle_type=order.vehicle_type,\n",
    "        preparation_time_min=order.preparation_time_min,\n",
    "        courier_experience_yrs=order.courier_experience_yrs,\n",
    "        delivery_time_min=order.delivery_time_min\n",
    "    )\n",
    "\n",
    "    database.add(db_order)\n",
    "    database.commit()\n",
    "    database.refresh(db_order)\n",
    "\n",
    "    return db_order"
   ]
  },
  {
   "cell_type": "markdown",
   "metadata": {},
   "source": [
    "- The create_order endpoint allows users to create a new order by accepting an OrderCreate model.\n",
    "- It verifies the user associated with the order using the current_user dependency; if the user is not found, a 404 HTTPException is raised.\n",
    "- A new Order instance is created with the provided details and added to the database.\n",
    "- The changes are committed, and the order is refreshed to include any database-generated fields.\n",
    "- Finally, the function returns the newly created order as an OrderResponse, ensuring secure order creation."
   ]
  },
  {
   "cell_type": "code",
   "execution_count": null,
   "metadata": {},
   "outputs": [],
   "source": [
    "@app.get(\"/user/{user_id}/orders\", response_model=List[OrderResponse])\n",
    "def get_user_orders(user_id: int, database: Session = Depends(get_db), current_user: User = Depends(get_current_user)):\n",
    "    orders = database.query(Order).filter(Order.user_id == user_id).all()\n",
    "    if not orders:\n",
    "        raise HTTPException(status_code=404, detail=\"No orders found for this user\")\n",
    "    return orders"
   ]
  },
  {
   "cell_type": "markdown",
   "metadata": {},
   "source": [
    "- The get_user_orders endpoint retrieves all orders for a specified user_id.\n",
    "- It uses the current_user dependency for authentication.\n",
    "- If no orders are found, a 404 HTTPException is raised.\n",
    "- If orders exist, they are returned as a list of OrderResponse, providing secure access to the user's orders."
   ]
  },
  {
   "cell_type": "code",
   "execution_count": null,
   "metadata": {},
   "outputs": [],
   "source": [
    "@app.get(\"/order/{order_id}\", response_model=OrderResponse)\n",
    "def get_order(order_id: int, database: Session = Depends(get_db), current_user: User = Depends(get_current_user)):\n",
    "    order = database.query(Order).filter(Order.order_id == order_id).first()\n",
    "    if not order:\n",
    "        raise HTTPException(status_code=404, detail=\"Order not found\")\n",
    "    return order"
   ]
  },
  {
   "cell_type": "markdown",
   "metadata": {},
   "source": [
    "- The get_order endpoint retrieves a specific order by order_id.\n",
    "- It uses the current_user dependency for authentication.\n",
    "- If the order is not found, a 404 HTTPException is raised.\n",
    "- If found, the order is returned as an OrderResponse, ensuring secure access to order details."
   ]
  }
 ],
 "metadata": {
  "kernelspec": {
   "display_name": "Python 3",
   "language": "python",
   "name": "python3"
  },
  "language_info": {
   "name": "python",
   "version": "3.12.4"
  }
 },
 "nbformat": 4,
 "nbformat_minor": 2
}
